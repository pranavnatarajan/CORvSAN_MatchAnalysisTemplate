{
 "cells": [
  {
   "attachments": {},
   "cell_type": "markdown",
   "metadata": {},
   "source": [
    "# CODE NOTEBOOK FOR THE MATCH REPORT TEMPLATE CREATION\n",
    "## Pranav Natarajan\n",
    "## pn12@uw.edu"
   ]
  },
  {
   "attachments": {},
   "cell_type": "markdown",
   "metadata": {},
   "source": [
    "First, we will use the `ScraperFC` module to extract match, event and shot data for the `Serié A` game between `Corinthians (H)` and `Santos (A)` from `FootballReference.com`, using statistics provided by `Opta`."
   ]
  },
  {
   "attachments": {},
   "cell_type": "markdown",
   "metadata": {},
   "source": [
    "### Installing required packages"
   ]
  },
  {
   "cell_type": "code",
   "execution_count": 1,
   "metadata": {},
   "outputs": [],
   "source": [
    "# installing ScraperFC to get match report data from FBref\n",
    "# if not installed on working instance\n",
    "try:\n",
    "  import ScraperFC as sfc\n",
    "except:\n",
    "  # running CLI command to install module\n",
    "  %pip install ScraperFC\n",
    "  # import module\n",
    "  import ScraperFC as sfc"
   ]
  },
  {
   "cell_type": "code",
   "execution_count": 2,
   "metadata": {},
   "outputs": [],
   "source": [
    "# loading required packages\n",
    "import numpy as np\n",
    "import pandas as pd\n",
    "# installed the ScraperFC package using pip on Python 3.9.6\n",
    "#import ScraperFC as sfc\n",
    "import traceback"
   ]
  },
  {
   "cell_type": "code",
   "execution_count": 142,
   "metadata": {},
   "outputs": [
    {
     "name": "stderr",
     "output_type": "stream",
     "text": [
      "[WDM] - Downloading: 100%|██████████| 8.61M/8.61M [00:01<00:00, 7.88MB/s]\n"
     ]
    }
   ],
   "source": [
    "# getting Brasileirao Serié A match data between Corinthians (H) vs Santos (A) on June 25 2022.\n",
    "match_link=r\"https://fbref.com/en/matches/4bf12498/Corinthians-Santos-June-25-2022-Serie-A\"\n",
    "\n",
    "# Initialize the FBRef scraper\n",
    "scraper = sfc.FBRef()\n",
    "try:\n",
    "    match = scraper.scrape_match(link=match_link)\n",
    "except:\n",
    "    # Catch and print any exceptions.\n",
    "    traceback.print_exc()\n",
    "finally:\n",
    "    # Again, make sure to close the scraper when you're done\n",
    "    scraper.close()"
   ]
  },
  {
   "cell_type": "code",
   "execution_count": 4,
   "metadata": {},
   "outputs": [],
   "source": [
    "# getting home player stats\n",
    "cor_stats = match[\"Home Player Stats\"].values[0][0]\n",
    "# getting away player stats\n",
    "san_stats = match[\"Away Player Stats\"].values[0][0]"
   ]
  },
  {
   "cell_type": "code",
   "execution_count": 50,
   "metadata": {},
   "outputs": [
    {
     "data": {
      "text/plain": [
       "Index(['Team Sheet', 'Summary', 'GK', 'Passing', 'Pass Types', 'Defense',\n",
       "       'Possession', 'Misc'],\n",
       "      dtype='object')"
      ]
     },
     "execution_count": 50,
     "metadata": {},
     "output_type": "execute_result"
    }
   ],
   "source": [
    "# getting the data frame names for the home team, Corinthians\n",
    "cor_stats.keys()"
   ]
  },
  {
   "cell_type": "code",
   "execution_count": 6,
   "metadata": {},
   "outputs": [
    {
     "data": {
      "text/plain": [
       "Index(['Team Sheet', 'Summary', 'GK', 'Passing', 'Pass Types', 'Defense',\n",
       "       'Possession', 'Misc'],\n",
       "      dtype='object')"
      ]
     },
     "execution_count": 6,
     "metadata": {},
     "output_type": "execute_result"
    }
   ],
   "source": [
    "# getting the data frame names for the away team, Santos\n",
    "san_stats.keys()"
   ]
  },
  {
   "attachments": {},
   "cell_type": "markdown",
   "metadata": {},
   "source": [
    "I will now concatenate these team-wise dataframes for ease of data visualisation on Tableau.\n",
    "\n",
    "I will remove the final row, since it is not relevant to our analyses (aggregates of certain rows only shown.)\n",
    "\n",
    "I will then add a `Team` column to both dataframes before concatenation to aid visualisations (and filtering) later on.\n",
    "\n",
    "I will also change the column names to remove multi-indexing, to ensure compatibility with tableau desktop 2022"
   ]
  },
  {
   "attachments": {},
   "cell_type": "markdown",
   "metadata": {},
   "source": [
    "### 1. Summary"
   ]
  },
  {
   "cell_type": "code",
   "execution_count": 150,
   "metadata": {},
   "outputs": [
    {
     "name": "stderr",
     "output_type": "stream",
     "text": [
      "/var/folders/jn/jj_sb82j7b5_l0bhh5j368wc0000gn/T/ipykernel_94790/1210703057.py:9: SettingWithCopyWarning: \n",
      "A value is trying to be set on a copy of a slice from a DataFrame.\n",
      "Try using .loc[row_indexer,col_indexer] = value instead\n",
      "\n",
      "See the caveats in the documentation: https://pandas.pydata.org/pandas-docs/stable/user_guide/indexing.html#returning-a-view-versus-a-copy\n",
      "  cor_stats_summary[\"Team\"] = \"COR\"\n",
      "/var/folders/jn/jj_sb82j7b5_l0bhh5j368wc0000gn/T/ipykernel_94790/1210703057.py:18: SettingWithCopyWarning: \n",
      "A value is trying to be set on a copy of a slice from a DataFrame.\n",
      "Try using .loc[row_indexer,col_indexer] = value instead\n",
      "\n",
      "See the caveats in the documentation: https://pandas.pydata.org/pandas-docs/stable/user_guide/indexing.html#returning-a-view-versus-a-copy\n",
      "  san_stats_summary[\"Team\"] = \"SAN\"\n"
     ]
    }
   ],
   "source": [
    "# getting the summary data\n",
    "# for the home team\n",
    "cor_stats_summary = cor_stats[\"Summary\"]\n",
    "# ONLY HERE: get the number of players\n",
    "num_players_cor = cor_stats_summary.shape[0]\n",
    "# remove last row of dataframe\n",
    "cor_stats_summary = cor_stats_summary.iloc[0:num_players_cor-1, :]\n",
    "# create Team column\n",
    "cor_stats_summary[\"Team\"] = \"COR\"\n",
    "\n",
    "# for the away team\n",
    "san_stats_summary = san_stats[\"Summary\"]\n",
    "# ONLY HERE: get the number of players\n",
    "num_players_san = san_stats_summary.shape[0]\n",
    "# remove last row of dataframe\n",
    "san_stats_summary = san_stats_summary.iloc[0:num_players_san-1, :]\n",
    "# create Team column\n",
    "san_stats_summary[\"Team\"] = \"SAN\"\n",
    "\n",
    "# concatenating the two dataframes, ignoring index so that it resets\n",
    "stats_summary = pd.concat([cor_stats_summary, san_stats_summary],\n",
    "                          ignore_index=True)\n",
    "\n",
    "# removing multi_indexing in columns\n",
    "stats_summary.columns = [\"-\".join(cname) for cname in stats_summary.columns]\n",
    "# saving to csv\n",
    "stats_summary.to_csv(\"stats_summary.csv\", index=None)"
   ]
  },
  {
   "cell_type": "code",
   "execution_count": 151,
   "metadata": {},
   "outputs": [
    {
     "data": {
      "text/plain": [
       "(31, 31)"
      ]
     },
     "execution_count": 151,
     "metadata": {},
     "output_type": "execute_result"
    }
   ],
   "source": [
    "stats_summary.shape"
   ]
  },
  {
   "attachments": {},
   "cell_type": "markdown",
   "metadata": {},
   "source": [
    "### 2. Passing"
   ]
  },
  {
   "cell_type": "code",
   "execution_count": 152,
   "metadata": {},
   "outputs": [
    {
     "name": "stderr",
     "output_type": "stream",
     "text": [
      "/var/folders/jn/jj_sb82j7b5_l0bhh5j368wc0000gn/T/ipykernel_94790/1219275470.py:7: SettingWithCopyWarning: \n",
      "A value is trying to be set on a copy of a slice from a DataFrame.\n",
      "Try using .loc[row_indexer,col_indexer] = value instead\n",
      "\n",
      "See the caveats in the documentation: https://pandas.pydata.org/pandas-docs/stable/user_guide/indexing.html#returning-a-view-versus-a-copy\n",
      "  cor_stats_passing[\"Team\"] = \"COR\"\n",
      "/var/folders/jn/jj_sb82j7b5_l0bhh5j368wc0000gn/T/ipykernel_94790/1219275470.py:14: SettingWithCopyWarning: \n",
      "A value is trying to be set on a copy of a slice from a DataFrame.\n",
      "Try using .loc[row_indexer,col_indexer] = value instead\n",
      "\n",
      "See the caveats in the documentation: https://pandas.pydata.org/pandas-docs/stable/user_guide/indexing.html#returning-a-view-versus-a-copy\n",
      "  san_stats_passing[\"Team\"] = \"SAN\"\n"
     ]
    }
   ],
   "source": [
    "# getting the passing data\n",
    "# for the home team\n",
    "cor_stats_passing = cor_stats[\"Passing\"]\n",
    "# removing final row\n",
    "cor_stats_passing = cor_stats_passing.iloc[0:num_players_cor-1, :]\n",
    "# creating Team column\n",
    "cor_stats_passing[\"Team\"] = \"COR\"\n",
    "\n",
    "# for the away team\n",
    "san_stats_passing = san_stats[\"Passing\"]\n",
    "# removing final row\n",
    "san_stats_passing = san_stats_passing.iloc[0:num_players_san-1, :]\n",
    "# creating Team column\n",
    "san_stats_passing[\"Team\"] = \"SAN\"\n",
    "\n",
    "# concatenating dataframes\n",
    "stats_passing = pd.concat([cor_stats_passing, san_stats_passing],\n",
    "                          ignore_index=True)\n",
    "\n",
    "# removing multi-indexing in columns\n",
    "stats_passing.columns = [\"-\".join(cname) for cname in stats_passing.columns]\n",
    "# saving to csv\n",
    "stats_passing.to_csv(\"stats_passing.csv\", index=None)"
   ]
  },
  {
   "cell_type": "code",
   "execution_count": 153,
   "metadata": {},
   "outputs": [
    {
     "data": {
      "text/plain": [
       "(31, 30)"
      ]
     },
     "execution_count": 153,
     "metadata": {},
     "output_type": "execute_result"
    }
   ],
   "source": [
    "stats_passing.shape"
   ]
  },
  {
   "attachments": {},
   "cell_type": "markdown",
   "metadata": {},
   "source": [
    "### 3. Pass Types"
   ]
  },
  {
   "cell_type": "code",
   "execution_count": 154,
   "metadata": {},
   "outputs": [
    {
     "name": "stderr",
     "output_type": "stream",
     "text": [
      "/var/folders/jn/jj_sb82j7b5_l0bhh5j368wc0000gn/T/ipykernel_94790/3391233004.py:7: SettingWithCopyWarning: \n",
      "A value is trying to be set on a copy of a slice from a DataFrame.\n",
      "Try using .loc[row_indexer,col_indexer] = value instead\n",
      "\n",
      "See the caveats in the documentation: https://pandas.pydata.org/pandas-docs/stable/user_guide/indexing.html#returning-a-view-versus-a-copy\n",
      "  cor_stats_pass_types[\"Team\"] = \"COR\"\n",
      "/var/folders/jn/jj_sb82j7b5_l0bhh5j368wc0000gn/T/ipykernel_94790/3391233004.py:14: SettingWithCopyWarning: \n",
      "A value is trying to be set on a copy of a slice from a DataFrame.\n",
      "Try using .loc[row_indexer,col_indexer] = value instead\n",
      "\n",
      "See the caveats in the documentation: https://pandas.pydata.org/pandas-docs/stable/user_guide/indexing.html#returning-a-view-versus-a-copy\n",
      "  san_stats_pass_types[\"Team\"] = \"SAN\"\n"
     ]
    }
   ],
   "source": [
    "# Getting the Pass Types data\n",
    "# for the home team\n",
    "cor_stats_pass_types = cor_stats[\"Pass Types\"]\n",
    "# removing final row\n",
    "cor_stats_pass_types = cor_stats_pass_types.iloc[0:num_players_cor-1, :]\n",
    "# creating Team column\n",
    "cor_stats_pass_types[\"Team\"] = \"COR\"\n",
    "\n",
    "# for the away team\n",
    "san_stats_pass_types = san_stats[\"Pass Types\"]\n",
    "# removing final row\n",
    "san_stats_pass_types = san_stats_pass_types.iloc[0:num_players_san-1, :]\n",
    "# creating Team column\n",
    "san_stats_pass_types[\"Team\"] = \"SAN\"\n",
    "\n",
    "\n",
    "# concatenating dataframes\n",
    "stats_pass_types = pd.concat([cor_stats_pass_types, san_stats_pass_types],\n",
    "                          ignore_index=True)\n",
    "\n",
    "# removing multi-indexing in columns\n",
    "stats_pass_types.columns = [\"-\".join(cname) for cname in stats_pass_types.columns]\n",
    "\n",
    "# saving to csv\n",
    "stats_pass_types.to_csv(\"stats_pass_types.csv\", index=None)"
   ]
  },
  {
   "cell_type": "code",
   "execution_count": 155,
   "metadata": {},
   "outputs": [
    {
     "data": {
      "text/plain": [
       "(31, 23)"
      ]
     },
     "execution_count": 155,
     "metadata": {},
     "output_type": "execute_result"
    }
   ],
   "source": [
    "stats_pass_types.shape"
   ]
  },
  {
   "attachments": {},
   "cell_type": "markdown",
   "metadata": {},
   "source": [
    "### 4. Defense"
   ]
  },
  {
   "cell_type": "code",
   "execution_count": 156,
   "metadata": {},
   "outputs": [
    {
     "name": "stderr",
     "output_type": "stream",
     "text": [
      "/var/folders/jn/jj_sb82j7b5_l0bhh5j368wc0000gn/T/ipykernel_94790/2032343367.py:7: SettingWithCopyWarning: \n",
      "A value is trying to be set on a copy of a slice from a DataFrame.\n",
      "Try using .loc[row_indexer,col_indexer] = value instead\n",
      "\n",
      "See the caveats in the documentation: https://pandas.pydata.org/pandas-docs/stable/user_guide/indexing.html#returning-a-view-versus-a-copy\n",
      "  cor_stats_defense[\"Team\"] = \"COR\"\n",
      "/var/folders/jn/jj_sb82j7b5_l0bhh5j368wc0000gn/T/ipykernel_94790/2032343367.py:14: SettingWithCopyWarning: \n",
      "A value is trying to be set on a copy of a slice from a DataFrame.\n",
      "Try using .loc[row_indexer,col_indexer] = value instead\n",
      "\n",
      "See the caveats in the documentation: https://pandas.pydata.org/pandas-docs/stable/user_guide/indexing.html#returning-a-view-versus-a-copy\n",
      "  san_stats_defense[\"Team\"] = \"SAN\"\n"
     ]
    }
   ],
   "source": [
    "# Getting the Defense data\n",
    "# for the home team\n",
    "cor_stats_defense = cor_stats[\"Defense\"]\n",
    "# removing final row\n",
    "cor_stats_defense = cor_stats_defense.iloc[0:num_players_cor-1, :]\n",
    "# creating Team column\n",
    "cor_stats_defense[\"Team\"] = \"COR\"\n",
    "\n",
    "# for the away team\n",
    "san_stats_defense = san_stats[\"Defense\"]\n",
    "# removing final row\n",
    "san_stats_defense = san_stats_defense.iloc[0:num_players_san-1, :]\n",
    "# creating Team column\n",
    "san_stats_defense[\"Team\"] = \"SAN\"\n",
    "\n",
    "# concatenating dataframes\n",
    "stats_defense = pd.concat([cor_stats_defense, san_stats_defense],\n",
    "                          ignore_index=True)\n",
    "\n",
    "# removing multi-indexing in columns\n",
    "stats_defense.columns = [\"-\".join(cname) for cname in stats_defense.columns]\n",
    "\n",
    "# saving to csv\n",
    "stats_defense.to_csv(\"stats_defense.csv\", index=None)"
   ]
  },
  {
   "cell_type": "code",
   "execution_count": 89,
   "metadata": {},
   "outputs": [
    {
     "data": {
      "text/plain": [
       "(31, 24)"
      ]
     },
     "execution_count": 89,
     "metadata": {},
     "output_type": "execute_result"
    }
   ],
   "source": [
    "stats_defense.shape"
   ]
  },
  {
   "attachments": {},
   "cell_type": "markdown",
   "metadata": {},
   "source": [
    "### 5. Posession"
   ]
  },
  {
   "cell_type": "code",
   "execution_count": 157,
   "metadata": {},
   "outputs": [
    {
     "name": "stderr",
     "output_type": "stream",
     "text": [
      "/var/folders/jn/jj_sb82j7b5_l0bhh5j368wc0000gn/T/ipykernel_94790/644836241.py:7: SettingWithCopyWarning: \n",
      "A value is trying to be set on a copy of a slice from a DataFrame.\n",
      "Try using .loc[row_indexer,col_indexer] = value instead\n",
      "\n",
      "See the caveats in the documentation: https://pandas.pydata.org/pandas-docs/stable/user_guide/indexing.html#returning-a-view-versus-a-copy\n",
      "  cor_stats_pos[\"Team\"] = \"COR\"\n",
      "/var/folders/jn/jj_sb82j7b5_l0bhh5j368wc0000gn/T/ipykernel_94790/644836241.py:14: SettingWithCopyWarning: \n",
      "A value is trying to be set on a copy of a slice from a DataFrame.\n",
      "Try using .loc[row_indexer,col_indexer] = value instead\n",
      "\n",
      "See the caveats in the documentation: https://pandas.pydata.org/pandas-docs/stable/user_guide/indexing.html#returning-a-view-versus-a-copy\n",
      "  san_stats_pos[\"Team\"] = \"SAN\"\n"
     ]
    }
   ],
   "source": [
    "# Getting the Possession data\n",
    "# for the home team\n",
    "cor_stats_pos = cor_stats[\"Possession\"]\n",
    "# removing final row\n",
    "cor_stats_pos = cor_stats_pos.iloc[0:num_players_cor-1, :]\n",
    "# creating Team column\n",
    "cor_stats_pos[\"Team\"] = \"COR\"\n",
    "\n",
    "# for the away team\n",
    "san_stats_pos = san_stats[\"Possession\"]\n",
    "# removing final row\n",
    "san_stats_pos = san_stats_pos.iloc[0:num_players_san-1, :]\n",
    "# creating Team column\n",
    "san_stats_pos[\"Team\"] = \"SAN\"\n",
    "\n",
    "# concatenating dataframes\n",
    "stats_pos = pd.concat([cor_stats_pos, san_stats_pos],\n",
    "                          ignore_index=True)\n",
    "\n",
    "# removing multi-indexing in columns\n",
    "stats_pos.columns = [\"-\".join(cname) for cname in stats_pos.columns]\n",
    "\n",
    "# saving to csv\n",
    "stats_pos.to_csv(\"stats_pos.csv\", index=\"None\")"
   ]
  },
  {
   "cell_type": "code",
   "execution_count": 76,
   "metadata": {},
   "outputs": [
    {
     "data": {
      "text/plain": [
       "(31, 22)"
      ]
     },
     "execution_count": 76,
     "metadata": {},
     "output_type": "execute_result"
    }
   ],
   "source": [
    "stats_pos.shape"
   ]
  },
  {
   "attachments": {},
   "cell_type": "markdown",
   "metadata": {},
   "source": [
    "### 6. Miscellaneous"
   ]
  },
  {
   "cell_type": "code",
   "execution_count": 158,
   "metadata": {},
   "outputs": [
    {
     "name": "stderr",
     "output_type": "stream",
     "text": [
      "/var/folders/jn/jj_sb82j7b5_l0bhh5j368wc0000gn/T/ipykernel_94790/3623006417.py:7: SettingWithCopyWarning: \n",
      "A value is trying to be set on a copy of a slice from a DataFrame.\n",
      "Try using .loc[row_indexer,col_indexer] = value instead\n",
      "\n",
      "See the caveats in the documentation: https://pandas.pydata.org/pandas-docs/stable/user_guide/indexing.html#returning-a-view-versus-a-copy\n",
      "  cor_stats_misc[\"Team\"] = \"COR\"\n",
      "/var/folders/jn/jj_sb82j7b5_l0bhh5j368wc0000gn/T/ipykernel_94790/3623006417.py:14: SettingWithCopyWarning: \n",
      "A value is trying to be set on a copy of a slice from a DataFrame.\n",
      "Try using .loc[row_indexer,col_indexer] = value instead\n",
      "\n",
      "See the caveats in the documentation: https://pandas.pydata.org/pandas-docs/stable/user_guide/indexing.html#returning-a-view-versus-a-copy\n",
      "  san_stats_misc[\"Team\"] = \"SAN\"\n"
     ]
    }
   ],
   "source": [
    "# Getting the Miscellaneous data\n",
    "# for the home team\n",
    "cor_stats_misc = cor_stats[\"Misc\"]\n",
    "# removing final row\n",
    "cor_stats_misc = cor_stats_misc.iloc[0:num_players_cor-1, :]\n",
    "# creating Team column\n",
    "cor_stats_misc[\"Team\"] = \"COR\"\n",
    "\n",
    "# for the away team\n",
    "san_stats_misc = san_stats[\"Misc\"]\n",
    "# removing final row\n",
    "san_stats_misc = san_stats_misc.iloc[0:num_players_san-1, :]\n",
    "# creating Team column\n",
    "san_stats_misc[\"Team\"] = \"SAN\"\n",
    "\n",
    "\n",
    "# concatenating dataframes\n",
    "stats_misc = pd.concat([cor_stats_misc, san_stats_misc],\n",
    "                          ignore_index=True)\n",
    "\n",
    "# removing multi-indexing in columns\n",
    "stats_misc.columns = [\"-\".join(cname) for cname in stats_misc.columns]\n",
    "\n",
    "# saving to csv\n",
    "stats_misc.to_csv(\"stats_misc.csv\", index=None)"
   ]
  },
  {
   "cell_type": "code",
   "execution_count": 77,
   "metadata": {},
   "outputs": [
    {
     "data": {
      "text/plain": [
       "(31, 24)"
      ]
     },
     "execution_count": 77,
     "metadata": {},
     "output_type": "execute_result"
    }
   ],
   "source": [
    "stats_misc.shape"
   ]
  },
  {
   "attachments": {},
   "cell_type": "markdown",
   "metadata": {},
   "source": [
    "### 7. GKs"
   ]
  },
  {
   "cell_type": "code",
   "execution_count": 159,
   "metadata": {},
   "outputs": [],
   "source": [
    "# loading the goalkeeper dataframes\n",
    "cor_stats_GK = cor_stats[\"GK\"]\n",
    "san_stats_GK = san_stats[\"GK\"]\n",
    "\n",
    "# adding the team columns to each dataframe\n",
    "cor_stats_GK[\"Team\"] = \"COR\"\n",
    "san_stats_GK[\"Team\"] = \"SAN\"\n",
    "\n",
    "# concatenating the dataframes\n",
    "stats_GK = pd.concat([cor_stats_GK, san_stats_GK],\n",
    "                      ignore_index=True)\n",
    "\n",
    "# removing multi-indexing in columns\n",
    "stats_GK.columns = [\"-\".join(cname) for cname in stats_GK.columns]\n",
    "\n",
    "# saving to csv\n",
    "stats_GK.to_csv(\"stats_GK.csv\", index=None)"
   ]
  },
  {
   "attachments": {},
   "cell_type": "markdown",
   "metadata": {},
   "source": [
    "### 8. Team Sheets"
   ]
  },
  {
   "cell_type": "code",
   "execution_count": 160,
   "metadata": {},
   "outputs": [],
   "source": [
    "# getting teamsheets\n",
    "cor_teamsheet = cor_stats[\"Team Sheet\"]\n",
    "san_teamsheet = san_stats[\"Team Sheet\"]\n",
    "# adding the team column to maintain data uniformity\n",
    "cor_teamsheet[\"Team\"] = \"COR\"\n",
    "san_teamsheet[\"Team\"] = \"SAN\"\n",
    "# getting the starting 11\n",
    "cor_teamsheet_s11 = cor_teamsheet.iloc[0:11, :]\n",
    "san_teamsheet_s11 = san_teamsheet.iloc[0:11, :]\n",
    "# getting the bench\n",
    "cor_teamsheet_bench = cor_teamsheet.iloc[12:, :]\n",
    "san_teamsheet_bench = san_teamsheet.iloc[12:, :]\n",
    "\n",
    "# removing multi-indexing in columns\n",
    "cor_teamsheet_s11.columns = [\"-\".join(cname) for cname in cor_teamsheet_s11.columns]\n",
    "cor_teamsheet_bench.columns = [\"-\".join(cname) for cname in cor_teamsheet_bench.columns]\n",
    "san_teamsheet_s11.columns = [\"-\".join(cname) for cname in san_teamsheet_s11.columns]\n",
    "san_teamsheet_bench.columns = [\"-\".join(cname) for cname in san_teamsheet_bench.columns]\n",
    "\n",
    "# saving to csvs\n",
    "cor_teamsheet_s11.to_csv(\"cor_teamsheet_s11.csv\", index=None)\n",
    "san_teamsheet_s11.to_csv(\"san_teamsheet_s11.csv\", index=None)\n",
    "cor_teamsheet_bench.to_csv(\"cor_teamsheet_bench.csv\", index=None)\n",
    "san_teamsheet_bench.to_csv(\"san_teamsheet_bench.csv\", index=None)"
   ]
  },
  {
   "attachments": {},
   "cell_type": "markdown",
   "metadata": {},
   "source": [
    "## Shot Data"
   ]
  },
  {
   "attachments": {},
   "cell_type": "markdown",
   "metadata": {},
   "source": [
    "Now, we can get the shot data from the match object."
   ]
  },
  {
   "cell_type": "code",
   "execution_count": 161,
   "metadata": {},
   "outputs": [],
   "source": [
    "shots = match[\"Shots\"].values[0][0].copy()"
   ]
  },
  {
   "cell_type": "code",
   "execution_count": 162,
   "metadata": {},
   "outputs": [
    {
     "data": {
      "text/plain": [
       "MultiIndex([('Unnamed: 0_level_0',    'Minute'),\n",
       "            ('Unnamed: 1_level_0',    'Player'),\n",
       "            ('Unnamed: 2_level_0',     'Squad'),\n",
       "            ('Unnamed: 3_level_0',        'xG'),\n",
       "            ('Unnamed: 4_level_0',      'PSxG'),\n",
       "            ('Unnamed: 5_level_0',   'Outcome'),\n",
       "            ('Unnamed: 6_level_0',  'Distance'),\n",
       "            ('Unnamed: 7_level_0', 'Body Part'),\n",
       "            ('Unnamed: 8_level_0',     'Notes'),\n",
       "            (             'SCA 1',    'Player'),\n",
       "            (             'SCA 1',     'Event'),\n",
       "            (             'SCA 2',    'Player'),\n",
       "            (             'SCA 2',     'Event')],\n",
       "           )"
      ]
     },
     "execution_count": 162,
     "metadata": {},
     "output_type": "execute_result"
    }
   ],
   "source": [
    "shots.columns"
   ]
  },
  {
   "attachments": {},
   "cell_type": "markdown",
   "metadata": {},
   "source": [
    "We need to rewrite the `Squad` column to match the `Team` columns we have in our dataframes from before."
   ]
  },
  {
   "cell_type": "code",
   "execution_count": 163,
   "metadata": {},
   "outputs": [],
   "source": [
    "shots[('Unnamed: 2_level_0',     'Squad')].replace({\"Santos\":\"SAN\", \"Corinthians\":\"COR\"},\n",
    "                              inplace=True)"
   ]
  },
  {
   "cell_type": "code",
   "execution_count": 164,
   "metadata": {},
   "outputs": [],
   "source": [
    "# changing column names to remove indexing\n",
    "shots.columns = [\"_\".join(cname) for cname in shots.columns]"
   ]
  },
  {
   "cell_type": "code",
   "execution_count": 177,
   "metadata": {},
   "outputs": [
    {
     "data": {
      "text/plain": [
       "Index(['Unnamed: 0_level_0_Minute', 'Unnamed: 1_level_0_Player',\n",
       "       'Unnamed: 2_level_0_Squad', 'Unnamed: 3_level_0_xG',\n",
       "       'Unnamed: 4_level_0_PSxG', 'Unnamed: 5_level_0_Outcome',\n",
       "       'Unnamed: 6_level_0_Distance', 'Unnamed: 7_level_0_Body Part',\n",
       "       'Unnamed: 8_level_0_Notes', 'SCA 1_Player', 'SCA 1_Event',\n",
       "       'SCA 2_Player', 'SCA 2_Event'],\n",
       "      dtype='object')"
      ]
     },
     "execution_count": 177,
     "metadata": {},
     "output_type": "execute_result"
    }
   ],
   "source": [
    "shots.columns"
   ]
  },
  {
   "attachments": {},
   "cell_type": "markdown",
   "metadata": {},
   "source": [
    "ensuring the `minute` column is continuous to ensure compatibility with continuous visualisations on tableau..."
   ]
  },
  {
   "cell_type": "code",
   "execution_count": 181,
   "metadata": {},
   "outputs": [],
   "source": [
    "shots[\"Unnamed: 0_level_0_Minute\"] = shots[\"Unnamed: 0_level_0_Minute\"].\\\n",
    "  replace([\"45+1\", \"90+5\"], [\"46\", \"95\"])"
   ]
  },
  {
   "cell_type": "code",
   "execution_count": 195,
   "metadata": {},
   "outputs": [],
   "source": [
    "xg_SAN_to_append = {\"Unnamed: 0_level_0_Minute\":[0, 97],\n",
    "\"Unnamed: 1_level_0_Player\":[None, None],\n",
    "\"Unnamed: 2_level_0_Squad\":[\"SAN\", \"SAN\"],\n",
    "\"Unnamed: 3_level_0_xG\":[0, 0],\n",
    "\"Unnamed: 4_level_0_PSxG\":[0, 0],\n",
    "\"Unnamed: 5_level_0_Outcome\":[None, None],\n",
    "\"Unnamed: 6_level_0_Distance\":[None, None],\n",
    "\"Unnamed: 7_level_0_Body Part\": [None, None],\n",
    "\"Unnamed: 8_level_0_Notes\": [\"Start First Half\", \"End of Game\"],\n",
    "\"SCA 1_Player\": [None, None],\n",
    "\"SCA 1_Event\": [None, None],\n",
    "\"SCA 2_Player\": [None, None],\n",
    "\"SCA 2_Event\": [None, None]}\n",
    "\n",
    "xg_COR_to_append = {\"Unnamed: 0_level_0_Minute\":[0, 97],\n",
    "\"Unnamed: 1_level_0_Player\":[None, None],\n",
    "\"Unnamed: 2_level_0_Squad\":[\"COR\", \"COR\"],\n",
    "\"Unnamed: 3_level_0_xG\":[0, 0],\n",
    "\"Unnamed: 4_level_0_PSxG\":[0, 0],\n",
    "\"Unnamed: 5_level_0_Outcome\":[None, None],\n",
    "\"Unnamed: 6_level_0_Distance\":[None, None],\n",
    "\"Unnamed: 7_level_0_Body Part\": [None, None],\n",
    "\"Unnamed: 8_level_0_Notes\": [\"Start First Half\", \"End of Game\"],\n",
    "\"SCA 1_Player\": [None, None],\n",
    "\"SCA 1_Event\": [None, None],\n",
    "\"SCA 2_Player\": [None, None],\n",
    "\"SCA 2_Event\": [None, None]}\n",
    "\n",
    "\n",
    "xg_SAN_to_append = pd.DataFrame.from_dict(xg_SAN_to_append)\n",
    "xg_COR_to_append = pd.DataFrame.from_dict(xg_COR_to_append)"
   ]
  },
  {
   "cell_type": "code",
   "execution_count": 196,
   "metadata": {},
   "outputs": [],
   "source": [
    "# adding the initial and final xG states to the table\n",
    "shots1 = pd.concat([xg_SAN_to_append, xg_COR_to_append, shots]).copy()"
   ]
  },
  {
   "cell_type": "code",
   "execution_count": 199,
   "metadata": {},
   "outputs": [],
   "source": [
    "shots1[\"Unnamed: 0_level_0_Minute\"] = shots1[\"Unnamed: 0_level_0_Minute\"].astype(np.int8)"
   ]
  },
  {
   "cell_type": "code",
   "execution_count": 200,
   "metadata": {},
   "outputs": [],
   "source": [
    "shots1 = shots1.sort_values(by=\"Unnamed: 0_level_0_Minute\")"
   ]
  },
  {
   "attachments": {},
   "cell_type": "markdown",
   "metadata": {},
   "source": [
    "Finally, we save this dataframe to a csv file use on tableau later"
   ]
  },
  {
   "cell_type": "code",
   "execution_count": 203,
   "metadata": {},
   "outputs": [],
   "source": [
    "shots1.to_csv(\"shots.csv\")"
   ]
  },
  {
   "cell_type": "code",
   "execution_count": null,
   "metadata": {},
   "outputs": [],
   "source": [
    "#NOTE: Posession Formula according to Opta =\n",
    "# Total passes attemped by team/total passes attempted entier game"
   ]
  },
  {
   "attachments": {},
   "cell_type": "markdown",
   "metadata": {},
   "source": [
    "## Player Scouting Report - Last 365 Days\n",
    "\n",
    "I then get the player scouting report from the past 365 days for `Ângelo Borges` and `Adson`, our two standout performers from the match who are under the age of 23.\n",
    "I reformat some of the columns, concatenate the data and save it as a csv to use on tableau later."
   ]
  },
  {
   "cell_type": "code",
   "execution_count": 222,
   "metadata": {},
   "outputs": [],
   "source": [
    "# For Angelo Borges\n",
    "player_link = r\"https://fbref.com/en/players/737945d9/Angelo-Borges\"\n",
    "# Initialize the FBRef scraper\n",
    "scraper = sfc.FBRef()\n",
    "try:\n",
    "    player_borges = scraper.complete_report_from_player_link(player_link=player_link)\n",
    "except:\n",
    "    # Catch and print any exceptions.\n",
    "    traceback.print_exc()\n",
    "finally:\n",
    "    # Again, make sure to close the scraper when you're done\n",
    "    scraper.close()"
   ]
  },
  {
   "cell_type": "code",
   "execution_count": 223,
   "metadata": {},
   "outputs": [],
   "source": [
    "# For Adson\n",
    "player_link = r\"https://fbref.com/en/players/eda38706/Adson\"\n",
    "# Initialize the FBRef scraper\n",
    "scraper = sfc.FBRef()\n",
    "try:\n",
    "    player_adson = scraper.complete_report_from_player_link(player_link=player_link)\n",
    "except:\n",
    "    # Catch and print any exceptions.\n",
    "    traceback.print_exc()\n",
    "finally:\n",
    "    # Again, make sure to close the scraper when you're done\n",
    "    scraper.close()"
   ]
  },
  {
   "cell_type": "code",
   "execution_count": 250,
   "metadata": {},
   "outputs": [],
   "source": [
    "# getting the dataframes\n",
    "angelo_borges = player_borges[0].copy()\n",
    "adson = player_adson[0].copy()"
   ]
  },
  {
   "cell_type": "code",
   "execution_count": 251,
   "metadata": {},
   "outputs": [],
   "source": [
    "# adding the index as columns, splitting into Category and Statistic\n",
    "angelo_borges.reset_index([0, 1], names=[\"Category\", \"Statistic\"], inplace=True)\n",
    "adson.reset_index([0, 1], names=[\"Category\", \"Statistic\"], inplace=True)"
   ]
  },
  {
   "attachments": {},
   "cell_type": "markdown",
   "metadata": {},
   "source": [
    "Now, I add some columns for the Bio"
   ]
  },
  {
   "cell_type": "code",
   "execution_count": 252,
   "metadata": {},
   "outputs": [],
   "source": [
    "angelo_borges[\"Name\"] = \"Ângelo Borges\"\n",
    "angelo_borges[\"Position\"] = \"FW/RW/MF\"\n",
    "angelo_borges[\"Age(Y-D)\"] = \"18-009\"\n",
    "angelo_borges[\"Country\"] = \"BRA\"\n",
    "angelo_borges[\"Team\"] = \"SAN\"\n",
    "angelo_borges[\"Height (cm)\"] = \"173\"\n",
    "angelo_borges[\"Weight (kg)\"] = \"67\"\n",
    "angelo_borges[\"Foot\"] = \"Left\""
   ]
  },
  {
   "cell_type": "code",
   "execution_count": 253,
   "metadata": {},
   "outputs": [],
   "source": [
    "adson[\"Name\"] = \"Adson\"\n",
    "adson[\"Position\"] = \"FW\"\n",
    "adson[\"Age(Y-D)\"] = \"22-085\"\n",
    "adson[\"Country\"] = \"BRA\"\n",
    "adson[\"Team\"] = \"COR\"\n",
    "adson[\"Height (cm)\"] = \"171\"\n",
    "adson[\"Weight (kg)\"] = \"71\"\n",
    "adson[\"Foot\"] = \"Left\""
   ]
  },
  {
   "attachments": {},
   "cell_type": "markdown",
   "metadata": {},
   "source": [
    "Concatenating the dataframes..."
   ]
  },
  {
   "cell_type": "code",
   "execution_count": 254,
   "metadata": {},
   "outputs": [],
   "source": [
    "scouting = pd.concat([angelo_borges, adson], axis=0)"
   ]
  },
  {
   "attachments": {},
   "cell_type": "markdown",
   "metadata": {},
   "source": [
    "and finally saving to CSV to use on Tableau later"
   ]
  },
  {
   "cell_type": "code",
   "execution_count": 249,
   "metadata": {},
   "outputs": [],
   "source": [
    "scouting.to_csv(\"scouting.csv\", index=None)"
   ]
  }
 ],
 "metadata": {
  "kernelspec": {
   "display_name": "Python 3",
   "language": "python",
   "name": "python3"
  },
  "language_info": {
   "codemirror_mode": {
    "name": "ipython",
    "version": 3
   },
   "file_extension": ".py",
   "mimetype": "text/x-python",
   "name": "python",
   "nbconvert_exporter": "python",
   "pygments_lexer": "ipython3",
   "version": "3.9.6"
  },
  "orig_nbformat": 4,
  "vscode": {
   "interpreter": {
    "hash": "31f2aee4e71d21fbe5cf8b01ff0e069b9275f58929596ceb00d14d90e3e16cd6"
   }
  }
 },
 "nbformat": 4,
 "nbformat_minor": 2
}
